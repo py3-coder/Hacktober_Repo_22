{
  "nbformat": 4,
  "nbformat_minor": 0,
  "metadata": {
    "colab": {
      "name": "Web Scraping Tutorial.ipynb",
      "provenance": [],
      "collapsed_sections": []
    },
    "kernelspec": {
      "name": "python3",
      "display_name": "Python 3"
    },
    "language_info": {
      "name": "python"
    }
  },
  "cells": [
    {
      "cell_type": "markdown",
      "metadata": {
        "id": "NbNk0H1-nbMu"
      },
      "source": [
        "##Making web scrapper \n",
        "\n"
      ]
    },
    {
      "cell_type": "code",
      "metadata": {
        "id": "oieP2Vnq1Xae",
        "outputId": "824a1f34-3e41-45ec-aef4-d1303240691d",
        "colab": {
          "base_uri": "https://localhost:8080/"
        }
      },
      "source": [
        "!pip install requests bs4"
      ],
      "execution_count": 232,
      "outputs": [
        {
          "output_type": "stream",
          "text": [
            "Requirement already satisfied: requests in /usr/local/lib/python3.7/dist-packages (2.23.0)\n",
            "Requirement already satisfied: bs4 in /usr/local/lib/python3.7/dist-packages (0.0.1)\n",
            "Requirement already satisfied: certifi>=2017.4.17 in /usr/local/lib/python3.7/dist-packages (from requests) (2020.12.5)\n",
            "Requirement already satisfied: idna<3,>=2.5 in /usr/local/lib/python3.7/dist-packages (from requests) (2.10)\n",
            "Requirement already satisfied: urllib3!=1.25.0,!=1.25.1,<1.26,>=1.21.1 in /usr/local/lib/python3.7/dist-packages (from requests) (1.24.3)\n",
            "Requirement already satisfied: chardet<4,>=3.0.2 in /usr/local/lib/python3.7/dist-packages (from requests) (3.0.4)\n",
            "Requirement already satisfied: beautifulsoup4 in /usr/local/lib/python3.7/dist-packages (from bs4) (4.6.3)\n"
          ],
          "name": "stdout"
        }
      ]
    },
    {
      "cell_type": "code",
      "metadata": {
        "id": "43W4-CxfnYsP"
      },
      "source": [
        "import pandas as pd\n",
        "import requests\n",
        "from bs4 import BeautifulSoup"
      ],
      "execution_count": 233,
      "outputs": []
    },
    {
      "cell_type": "markdown",
      "metadata": {
        "id": "GJwRidwU1n7G"
      },
      "source": [
        "**Installing and importing necessary libraries**"
      ]
    },
    {
      "cell_type": "code",
      "metadata": {
        "id": "OFPj-dDGnh6-"
      },
      "source": [
        "WEBSITE = \"https://books.toscrape.com\"\n",
        "html_content = requests.get(WEBSITE).content"
      ],
      "execution_count": 234,
      "outputs": []
    },
    {
      "cell_type": "markdown",
      "metadata": {
        "id": "gvb_yfof1zC0"
      },
      "source": [
        "*Selecting website to scrape*"
      ]
    },
    {
      "cell_type": "code",
      "metadata": {
        "id": "5sixFWl6nllo"
      },
      "source": [
        "soup = BeautifulSoup(html_content)\n",
        "side_categories = soup.find(\"ol\", class_=\"row\")\n",
        "\n",
        "list_items = side_categories.find_all(\"h3\")"
      ],
      "execution_count": 235,
      "outputs": []
    },
    {
      "cell_type": "markdown",
      "metadata": {
        "id": "md23Oml41-Qw"
      },
      "source": [
        "*Selecting data to scrape from the HTML file of the website*"
      ]
    },
    {
      "cell_type": "code",
      "metadata": {
        "id": "rHOhNTGvolbW"
      },
      "source": [
        "cat_names = []\n",
        "cat_links = []\n",
        "cat_price = []\n",
        "cat_stock = []\n",
        "for item in list_items:\n",
        "    cat_names.append(item.text.strip())\n",
        "    # cat_links.append(item['href'])\n",
        "    # cat_price.append(item['p'])"
      ],
      "execution_count": 236,
      "outputs": []
    },
    {
      "cell_type": "markdown",
      "metadata": {
        "id": "St9m2AnB2Ht5"
      },
      "source": [
        "**Defining variables**"
      ]
    },
    {
      "cell_type": "code",
      "metadata": {
        "id": "SWGinKCmuYiX"
      },
      "source": [
        "soup = BeautifulSoup(html_content)\n",
        "side_categories = soup.find(\"ol\", class_=\"row\")\n",
        "\n",
        "list_price = side_categories.find_all(\"p\", class_ = \"price_color\")"
      ],
      "execution_count": 237,
      "outputs": []
    },
    {
      "cell_type": "markdown",
      "metadata": {
        "id": "hlHdk8FU2P3B"
      },
      "source": [
        "Selecting data to scrape from the HTML file of the website *2"
      ]
    },
    {
      "cell_type": "code",
      "metadata": {
        "id": "Jkq6fUDr0k41"
      },
      "source": [
        "soup = BeautifulSoup(html_content)\n",
        "side_categories = soup.find(\"ol\", class_=\"row\")\n",
        "\n",
        "list_stock = side_categories.find_all(\"p\", class_ = \"instock availability\")"
      ],
      "execution_count": 238,
      "outputs": []
    },
    {
      "cell_type": "markdown",
      "metadata": {
        "id": "NBn2fGhv2TMr"
      },
      "source": [
        "\n",
        "Selecting data to scrape from the HTML file of the website *3"
      ]
    },
    {
      "cell_type": "code",
      "metadata": {
        "id": "JlyAgGiPukZv"
      },
      "source": [
        "for price in list_price:\n",
        "    cat_price.append(price.text.strip())\n",
        "    # cat_stock.append(stock.text.strip())"
      ],
      "execution_count": 239,
      "outputs": []
    },
    {
      "cell_type": "code",
      "metadata": {
        "id": "OBHwK3lx0vmY"
      },
      "source": [
        "for stock in list_stock:\n",
        "    cat_stock.append(stock.text.strip())"
      ],
      "execution_count": 240,
      "outputs": []
    },
    {
      "cell_type": "markdown",
      "metadata": {
        "id": "Hu8pq4ER2bd4"
      },
      "source": [
        "***Creating dataframe to use pandas for making the csv file***"
      ]
    },
    {
      "cell_type": "code",
      "metadata": {
        "id": "-Ge-mNdlstjT",
        "outputId": "52278a51-4cbf-4796-acfa-bae1eb631139",
        "colab": {
          "base_uri": "https://localhost:8080/",
          "height": 351
        }
      },
      "source": [
        "df = pd.DataFrame({\n",
        "    'category_name': cat_names,\n",
        "    'category_price': cat_price,\n",
        "    'category_stock': cat_stock\n",
        "    # 'category_links': cat_links\n",
        "})\n",
        "\n",
        "df.head(n=10)"
      ],
      "execution_count": 241,
      "outputs": [
        {
          "output_type": "execute_result",
          "data": {
            "text/html": [
              "<div>\n",
              "<style scoped>\n",
              "    .dataframe tbody tr th:only-of-type {\n",
              "        vertical-align: middle;\n",
              "    }\n",
              "\n",
              "    .dataframe tbody tr th {\n",
              "        vertical-align: top;\n",
              "    }\n",
              "\n",
              "    .dataframe thead th {\n",
              "        text-align: right;\n",
              "    }\n",
              "</style>\n",
              "<table border=\"1\" class=\"dataframe\">\n",
              "  <thead>\n",
              "    <tr style=\"text-align: right;\">\n",
              "      <th></th>\n",
              "      <th>category_name</th>\n",
              "      <th>category_price</th>\n",
              "      <th>category_stock</th>\n",
              "    </tr>\n",
              "  </thead>\n",
              "  <tbody>\n",
              "    <tr>\n",
              "      <th>0</th>\n",
              "      <td>A Light in the ...</td>\n",
              "      <td>£51.77</td>\n",
              "      <td>In stock</td>\n",
              "    </tr>\n",
              "    <tr>\n",
              "      <th>1</th>\n",
              "      <td>Tipping the Velvet</td>\n",
              "      <td>£53.74</td>\n",
              "      <td>In stock</td>\n",
              "    </tr>\n",
              "    <tr>\n",
              "      <th>2</th>\n",
              "      <td>Soumission</td>\n",
              "      <td>£50.10</td>\n",
              "      <td>In stock</td>\n",
              "    </tr>\n",
              "    <tr>\n",
              "      <th>3</th>\n",
              "      <td>Sharp Objects</td>\n",
              "      <td>£47.82</td>\n",
              "      <td>In stock</td>\n",
              "    </tr>\n",
              "    <tr>\n",
              "      <th>4</th>\n",
              "      <td>Sapiens: A Brief History ...</td>\n",
              "      <td>£54.23</td>\n",
              "      <td>In stock</td>\n",
              "    </tr>\n",
              "    <tr>\n",
              "      <th>5</th>\n",
              "      <td>The Requiem Red</td>\n",
              "      <td>£22.65</td>\n",
              "      <td>In stock</td>\n",
              "    </tr>\n",
              "    <tr>\n",
              "      <th>6</th>\n",
              "      <td>The Dirty Little Secrets ...</td>\n",
              "      <td>£33.34</td>\n",
              "      <td>In stock</td>\n",
              "    </tr>\n",
              "    <tr>\n",
              "      <th>7</th>\n",
              "      <td>The Coming Woman: A ...</td>\n",
              "      <td>£17.93</td>\n",
              "      <td>In stock</td>\n",
              "    </tr>\n",
              "    <tr>\n",
              "      <th>8</th>\n",
              "      <td>The Boys in the ...</td>\n",
              "      <td>£22.60</td>\n",
              "      <td>In stock</td>\n",
              "    </tr>\n",
              "    <tr>\n",
              "      <th>9</th>\n",
              "      <td>The Black Maria</td>\n",
              "      <td>£52.15</td>\n",
              "      <td>In stock</td>\n",
              "    </tr>\n",
              "  </tbody>\n",
              "</table>\n",
              "</div>"
            ],
            "text/plain": [
              "                  category_name category_price category_stock\n",
              "0            A Light in the ...         £51.77       In stock\n",
              "1            Tipping the Velvet         £53.74       In stock\n",
              "2                    Soumission         £50.10       In stock\n",
              "3                 Sharp Objects         £47.82       In stock\n",
              "4  Sapiens: A Brief History ...         £54.23       In stock\n",
              "5               The Requiem Red         £22.65       In stock\n",
              "6  The Dirty Little Secrets ...         £33.34       In stock\n",
              "7       The Coming Woman: A ...         £17.93       In stock\n",
              "8           The Boys in the ...         £22.60       In stock\n",
              "9               The Black Maria         £52.15       In stock"
            ]
          },
          "metadata": {
            "tags": []
          },
          "execution_count": 241
        }
      ]
    },
    {
      "cell_type": "markdown",
      "metadata": {
        "id": "mmCecFUp2kDm"
      },
      "source": [
        "**Saving the csv file**"
      ]
    },
    {
      "cell_type": "code",
      "metadata": {
        "id": "6yF2wbEZvN35"
      },
      "source": [
        "df.to_csv(\"category_data.csv\")"
      ],
      "execution_count": 242,
      "outputs": []
    }
  ]
}