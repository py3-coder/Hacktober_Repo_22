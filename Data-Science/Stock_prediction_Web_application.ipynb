{
  "nbformat": 4,
  "nbformat_minor": 0,
  "metadata": {
    "colab": {
      "provenance": []
    },
    "kernelspec": {
      "name": "python3",
      "display_name": "Python 3"
    },
    "language_info": {
      "name": "python"
    }
  },
  "cells": [
    {
      "cell_type": "code",
      "source": [
        "!pip install --upgrade pandas\n",
        "!pip install --upgrade pandas-datareader"
      ],
      "metadata": {
        "id": "2Bl8bg5o50m3"
      },
      "execution_count": null,
      "outputs": []
    },
    {
      "cell_type": "code",
      "execution_count": null,
      "metadata": {
        "id": "_rSF-GOp4aQQ"
      },
      "outputs": [],
      "source": [
        "import numpy as np\n",
        "import pandas as pd\n",
        "import matplotlib.pyplot as plt\n",
        "import pandas_datareader as web\n",
        "from sklearn.preprocessing import MinMaxScaler\n",
        "import tensorflow\n",
        "from tensorflow import keras\n",
        "from keras.layers import Dense, Dropout, LSTM\n",
        "from keras.models import Sequential"
      ]
    },
    {
      "cell_type": "code",
      "source": [
        "start = '2010-01-01'\n",
        "end = '2019-12-31'\n",
        "\n",
        "data = web.DataReader('TSLA', 'yahoo', start, end)\n",
        "df = pd.DataFrame(data)\n",
        "df.head()"
      ],
      "metadata": {
        "id": "RsM3RgNI4vsB"
      },
      "execution_count": null,
      "outputs": []
    },
    {
      "cell_type": "code",
      "source": [
        "df = df.reset_index()\n",
        "df.head()"
      ],
      "metadata": {
        "id": "thk8frbl5Hud"
      },
      "execution_count": null,
      "outputs": []
    },
    {
      "cell_type": "code",
      "source": [
        "df = df.drop(['Date', 'Adj Close'], axis = 1)\n",
        "df.head()"
      ],
      "metadata": {
        "id": "lTh-yJz_6rjL"
      },
      "execution_count": null,
      "outputs": []
    },
    {
      "cell_type": "code",
      "source": [
        "plt.plot(df.Close)"
      ],
      "metadata": {
        "id": "YUuTY6kE68eW"
      },
      "execution_count": null,
      "outputs": []
    },
    {
      "cell_type": "code",
      "source": [
        "ma100 = df.Close.rolling(100).mean()\n",
        "ma100"
      ],
      "metadata": {
        "id": "BUilR_zN7HW4"
      },
      "execution_count": null,
      "outputs": []
    },
    {
      "cell_type": "code",
      "source": [
        "plt.figure(figsize = (12, 6))\n",
        "plt.plot(df.Close)\n",
        "plt.plot(ma100)\n",
        "plt.show()"
      ],
      "metadata": {
        "id": "rtPGdayW7XgA"
      },
      "execution_count": null,
      "outputs": []
    },
    {
      "cell_type": "code",
      "source": [
        "ma200 = df.Close.rolling(200).mean()\n",
        "ma200"
      ],
      "metadata": {
        "id": "i5sVJOWj7hx2"
      },
      "execution_count": null,
      "outputs": []
    },
    {
      "cell_type": "code",
      "source": [
        "plt.figure(figsize = (12, 6))\n",
        "plt.plot(df.Close)\n",
        "plt.plot(ma100, color = 'red')\n",
        "plt.plot(ma200, color = 'green')\n",
        "plt.show()"
      ],
      "metadata": {
        "id": "4FgslE8x74IN"
      },
      "execution_count": null,
      "outputs": []
    },
    {
      "cell_type": "code",
      "source": [
        "df.shape"
      ],
      "metadata": {
        "id": "0l7BLxIu76XY"
      },
      "execution_count": null,
      "outputs": []
    },
    {
      "cell_type": "code",
      "source": [
        "dataTraining = pd.DataFrame(df['Close'][0 : int(len(df) * 0.70)])\n",
        "dataTesting = pd.DataFrame(df['Close'][int(len(df) * 0.70) : int(len(df))])\n",
        "\n",
        "print(dataTraining.shape)\n",
        "print(dataTesting.shape)"
      ],
      "metadata": {
        "id": "WPyftuCz8Wu5"
      },
      "execution_count": null,
      "outputs": []
    },
    {
      "cell_type": "code",
      "source": [
        "scaler = MinMaxScaler(feature_range = (0, 1))\n",
        "\n",
        "dataTraining = scaler.fit_transform(dataTraining)\n",
        "dataTraining"
      ],
      "metadata": {
        "id": "KLDND0SU9EPU"
      },
      "execution_count": null,
      "outputs": []
    },
    {
      "cell_type": "code",
      "source": [
        "xTrain = []\n",
        "yTrain = []\n",
        "\n",
        "for i in range(100, dataTraining.shape[0]):\n",
        "  xTrain.append(dataTraining[i - 100 : i])\n",
        "  yTrain.append(dataTraining[i, 0])\n",
        "\n",
        "xTrain, yTrain = np.array(xTrain), np.array(yTrain)"
      ],
      "metadata": {
        "id": "q7DVmIcc_kpS"
      },
      "execution_count": null,
      "outputs": []
    },
    {
      "cell_type": "code",
      "source": [
        "xTrain.shape"
      ],
      "metadata": {
        "id": "4jEuM5kPCBse"
      },
      "execution_count": null,
      "outputs": []
    },
    {
      "cell_type": "code",
      "source": [
        "model = Sequential()\n",
        "\n",
        "model.add(LSTM(units = 50, activation = 'relu', return_sequences = True, input_shape = (xTrain.shape[1], 1)))\n",
        "model.add(Dropout(0.2))\n",
        "model.add(LSTM(units = 60, activation = 'relu', return_sequences = True))\n",
        "model.add(Dropout(0.3))\n",
        "model.add(LSTM(units = 80, activation = 'relu', return_sequences = True))\n",
        "model.add(Dropout(0.4))\n",
        "model.add(LSTM(units = 120, activation = 'relu'))\n",
        "model.add(Dropout(0.5))\n",
        "model.add(Dense(units = 1))"
      ],
      "metadata": {
        "id": "ypDTRK1yBGux"
      },
      "execution_count": null,
      "outputs": []
    },
    {
      "cell_type": "code",
      "source": [
        "model.summary()"
      ],
      "metadata": {
        "id": "0roRLEcNCzI5"
      },
      "execution_count": null,
      "outputs": []
    },
    {
      "cell_type": "code",
      "source": [
        "model.compile(optimizer = 'adam', loss = 'mean_squared_error')\n",
        "model.fit(xTrain, yTrain, epochs = 50)"
      ],
      "metadata": {
        "id": "3HBHHPcTC1bI"
      },
      "execution_count": null,
      "outputs": []
    },
    {
      "cell_type": "code",
      "source": [
        "model.save('Stock model.h5')"
      ],
      "metadata": {
        "id": "DsTQCcCrJJOE"
      },
      "execution_count": null,
      "outputs": []
    },
    {
      "cell_type": "code",
      "source": [
        "past100Days = dataTesting.tail(100)\n",
        "totalDf = past100Days.append(dataTesting, ignore_index = True)\n",
        "\n",
        "inputData = scaler.fit_transform(totalDf)\n",
        "inputData.shape"
      ],
      "metadata": {
        "id": "mmCSm6oRDCJZ"
      },
      "execution_count": null,
      "outputs": []
    },
    {
      "cell_type": "code",
      "source": [
        "xTest = []\n",
        "yTest = []\n",
        "\n",
        "for i in range(100, inputData.shape[0]):\n",
        "  xTest.append(inputData[i - 100 : i])\n",
        "  yTest.append(inputData[i, 0])\n",
        "\n",
        "xTest, yTest = np.array(xTest), np.array(yTest)"
      ],
      "metadata": {
        "id": "m28Oe4ENGNod"
      },
      "execution_count": null,
      "outputs": []
    },
    {
      "cell_type": "code",
      "source": [
        "xTest.shape"
      ],
      "metadata": {
        "id": "Mt4Dg50fGnLA"
      },
      "execution_count": null,
      "outputs": []
    },
    {
      "cell_type": "code",
      "source": [
        "yPred = model.predict(xTest)\n",
        "yPred.shape"
      ],
      "metadata": {
        "id": "UyMOJEN2Grf8"
      },
      "execution_count": null,
      "outputs": []
    },
    {
      "cell_type": "code",
      "source": [
        "yPred"
      ],
      "metadata": {
        "id": "KX1ewjeuHG4q"
      },
      "execution_count": null,
      "outputs": []
    },
    {
      "cell_type": "code",
      "source": [
        "yTest"
      ],
      "metadata": {
        "id": "mMhTR50-HJQv"
      },
      "execution_count": null,
      "outputs": []
    },
    {
      "cell_type": "code",
      "source": [
        "scaler.scale_"
      ],
      "metadata": {
        "id": "_H0M0vh8HKi6"
      },
      "execution_count": null,
      "outputs": []
    },
    {
      "cell_type": "code",
      "source": [
        "scaleFactor = 1 / 0.01984363\n",
        "\n",
        "yPred = yPred * scaleFactor\n",
        "yTest = yTest * scaleFactor"
      ],
      "metadata": {
        "id": "OjL6PhJuHO8n"
      },
      "execution_count": null,
      "outputs": []
    },
    {
      "cell_type": "code",
      "source": [
        "plt.figure(figsize = (15, 8))\n",
        "plt.plot(yTest, color = 'blue', label = 'Actual Price')\n",
        "plt.plot(yPred, color = 'red', label = 'Predicted Price')\n",
        "plt.xlabel('Time')\n",
        "plt.ylabel('Price')\n",
        "plt.legend()\n",
        "plt.show()"
      ],
      "metadata": {
        "id": "xo9pXPCsHfAL"
      },
      "execution_count": null,
      "outputs": []
    },
    {
      "cell_type": "code",
      "source": [],
      "metadata": {
        "id": "f-_mQXjVIFcl"
      },
      "execution_count": null,
      "outputs": []
    }
  ]
}