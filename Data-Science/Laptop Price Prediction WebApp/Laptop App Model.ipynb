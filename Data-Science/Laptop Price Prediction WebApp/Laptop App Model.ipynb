{
 "cells": [
  {
   "cell_type": "code",
   "execution_count": 2,
   "id": "4086e43a",
   "metadata": {},
   "outputs": [
    {
     "name": "stdout",
     "output_type": "stream",
     "text": [
      "[ 66239.8682665  105651.54754719  86499.28213104  74233.38026734\n",
      "  67017.0260964   31299.74869497]\n"
     ]
    }
   ],
   "source": [
    "import numpy as np\n",
    "import pandas as pd\n",
    "from sklearn.linear_model import LinearRegression\n",
    "from sklearn.model_selection import train_test_split\n",
    "import warnings\n",
    "import pickle\n",
    "warnings.filterwarnings(\"ignore\")\n",
    "df=pd.read_csv(\"C:\\\\Users\\\\ankit\\\\Documents\\\\Project Files\\\\laptop price data.csv\")\n",
    "df[\"Manufacturer\"]=df[\"Manufacturer\"].replace(to_replace={\"HP\":0,\"Lenovo\":1,\"ASUS\":2,\"Dell\":3})\n",
    "X=df[[\"Manufacturer\",\"IntelCore\",\"Ram\",\"HDD\",\"SSD\"]]\n",
    "y=df[\"Price\"]\n",
    "X=X.astype(\"int\")\n",
    "y=y.astype(\"int\")\n",
    "X_train,X_test,y_train,y_test=train_test_split(X,y,test_size=0.2,random_state=40)\n",
    "regre=LinearRegression()\n",
    "regre.fit(X_train,y_train)\n",
    "predict_reg=regre.predict(X_test)\n",
    "print(predict_reg)"
   ]
  },
  {
   "cell_type": "code",
   "execution_count": 3,
   "id": "0ac9c988",
   "metadata": {},
   "outputs": [],
   "source": [
    "pickle_out= open(\"model.pkl\", \"wb\")\n",
    "pickle.dump(regre,pickle_out )\n",
    "pickle_out.close()"
   ]
  }
 ],
 "metadata": {
  "kernelspec": {
   "display_name": "Python 3",
   "language": "python",
   "name": "python3"
  },
  "language_info": {
   "codemirror_mode": {
    "name": "ipython",
    "version": 3
   },
   "file_extension": ".py",
   "mimetype": "text/x-python",
   "name": "python",
   "nbconvert_exporter": "python",
   "pygments_lexer": "ipython3",
   "version": "3.8.8"
  }
 },
 "nbformat": 4,
 "nbformat_minor": 5
}
